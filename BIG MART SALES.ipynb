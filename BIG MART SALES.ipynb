{
 "cells": [
  {
   "cell_type": "markdown",
   "id": "f1f94c82",
   "metadata": {},
   "source": [
    "### Retail Industry: Big Sales Mart\n",
    "\n",
    "The data scientists at BigMart have collected 2013 sales data for 1559 products across 10 stores in different cities. Also, certain attributes of each product and store have been defined. **The aim is to build a predictive model and find out the sales of each product at a particular store.** Using this model, BigMart will try to understand the properties of products and stores which play a key role in increasing sales.\n",
    "\n",
    "Please note that the data may have missing values as some stores might not report all the data due to technical glitches. Hence, it will be required to treat them accordingly."
   ]
  },
  {
   "cell_type": "code",
   "execution_count": 1,
   "id": "8283129c",
   "metadata": {},
   "outputs": [],
   "source": [
    "import numpy as np\n",
    "import pandas as pd\n",
    "import seaborn as sns\n",
    "import matplotlib.pyplot as plt\n",
    "import scipy.stats as stats\n",
    "import warnings\n",
    "warnings.filterwarnings('ignore')\n",
    "import statsmodels.formula.api as sfa"
   ]
  },
  {
   "cell_type": "code",
   "execution_count": 2,
   "id": "11ee1abe",
   "metadata": {},
   "outputs": [],
   "source": [
    "train=pd.read_csv(\"Bigmart_Train.csv\")\n",
    "test=pd.read_csv(\"Bigmart_Test.csv\")"
   ]
  },
  {
   "cell_type": "code",
   "execution_count": 3,
   "id": "09270300",
   "metadata": {},
   "outputs": [
    {
     "data": {
      "text/html": [
       "<div>\n",
       "<style scoped>\n",
       "    .dataframe tbody tr th:only-of-type {\n",
       "        vertical-align: middle;\n",
       "    }\n",
       "\n",
       "    .dataframe tbody tr th {\n",
       "        vertical-align: top;\n",
       "    }\n",
       "\n",
       "    .dataframe thead th {\n",
       "        text-align: right;\n",
       "    }\n",
       "</style>\n",
       "<table border=\"1\" class=\"dataframe\">\n",
       "  <thead>\n",
       "    <tr style=\"text-align: right;\">\n",
       "      <th></th>\n",
       "      <th>Item_Weight</th>\n",
       "      <th>Item_Fat_Content</th>\n",
       "      <th>Item_Visibility</th>\n",
       "      <th>Item_MRP</th>\n",
       "      <th>Outlet_Size</th>\n",
       "      <th>Outlet_Location_Type</th>\n",
       "      <th>Outlet_Type</th>\n",
       "      <th>Item_Outlet_Sales</th>\n",
       "      <th>Item_Type_Cat</th>\n",
       "      <th>ItemID_Cat</th>\n",
       "      <th>Outlet_Perf</th>\n",
       "      <th>Existence_Yr</th>\n",
       "    </tr>\n",
       "  </thead>\n",
       "  <tbody>\n",
       "    <tr>\n",
       "      <th>0</th>\n",
       "      <td>9.30</td>\n",
       "      <td>Low Fat</td>\n",
       "      <td>0.016047</td>\n",
       "      <td>249.8092</td>\n",
       "      <td>Medium</td>\n",
       "      <td>Tier 1</td>\n",
       "      <td>Supermarket Type1</td>\n",
       "      <td>3735.1380</td>\n",
       "      <td>Perishables</td>\n",
       "      <td>FD</td>\n",
       "      <td>Medium_Perf</td>\n",
       "      <td>14</td>\n",
       "    </tr>\n",
       "    <tr>\n",
       "      <th>1</th>\n",
       "      <td>5.92</td>\n",
       "      <td>Regular</td>\n",
       "      <td>0.019278</td>\n",
       "      <td>48.2692</td>\n",
       "      <td>Medium</td>\n",
       "      <td>Tier 3</td>\n",
       "      <td>Supermarket Type2</td>\n",
       "      <td>443.4228</td>\n",
       "      <td>Non_Perishables</td>\n",
       "      <td>DR</td>\n",
       "      <td>Medium_Perf</td>\n",
       "      <td>4</td>\n",
       "    </tr>\n",
       "    <tr>\n",
       "      <th>2</th>\n",
       "      <td>17.50</td>\n",
       "      <td>Low Fat</td>\n",
       "      <td>0.016760</td>\n",
       "      <td>141.6180</td>\n",
       "      <td>Medium</td>\n",
       "      <td>Tier 1</td>\n",
       "      <td>Supermarket Type1</td>\n",
       "      <td>2097.2700</td>\n",
       "      <td>Perishables</td>\n",
       "      <td>FD</td>\n",
       "      <td>Medium_Perf</td>\n",
       "      <td>14</td>\n",
       "    </tr>\n",
       "    <tr>\n",
       "      <th>3</th>\n",
       "      <td>19.20</td>\n",
       "      <td>Regular</td>\n",
       "      <td>0.022914</td>\n",
       "      <td>182.0950</td>\n",
       "      <td>Small</td>\n",
       "      <td>Tier 3</td>\n",
       "      <td>Grocery Store</td>\n",
       "      <td>732.3800</td>\n",
       "      <td>Perishables</td>\n",
       "      <td>FD</td>\n",
       "      <td>Low_Perf</td>\n",
       "      <td>15</td>\n",
       "    </tr>\n",
       "    <tr>\n",
       "      <th>4</th>\n",
       "      <td>8.93</td>\n",
       "      <td>Non Edible</td>\n",
       "      <td>0.013177</td>\n",
       "      <td>53.8614</td>\n",
       "      <td>High</td>\n",
       "      <td>Tier 3</td>\n",
       "      <td>Supermarket Type1</td>\n",
       "      <td>994.7052</td>\n",
       "      <td>Non_Perishables</td>\n",
       "      <td>NC</td>\n",
       "      <td>High_Perf</td>\n",
       "      <td>26</td>\n",
       "    </tr>\n",
       "  </tbody>\n",
       "</table>\n",
       "</div>"
      ],
      "text/plain": [
       "   Item_Weight Item_Fat_Content  Item_Visibility  Item_MRP Outlet_Size  \\\n",
       "0         9.30          Low Fat         0.016047  249.8092      Medium   \n",
       "1         5.92          Regular         0.019278   48.2692      Medium   \n",
       "2        17.50          Low Fat         0.016760  141.6180      Medium   \n",
       "3        19.20          Regular         0.022914  182.0950       Small   \n",
       "4         8.93       Non Edible         0.013177   53.8614        High   \n",
       "\n",
       "  Outlet_Location_Type        Outlet_Type  Item_Outlet_Sales    Item_Type_Cat  \\\n",
       "0               Tier 1  Supermarket Type1          3735.1380      Perishables   \n",
       "1               Tier 3  Supermarket Type2           443.4228  Non_Perishables   \n",
       "2               Tier 1  Supermarket Type1          2097.2700      Perishables   \n",
       "3               Tier 3      Grocery Store           732.3800      Perishables   \n",
       "4               Tier 3  Supermarket Type1           994.7052  Non_Perishables   \n",
       "\n",
       "  ItemID_Cat  Outlet_Perf  Existence_Yr  \n",
       "0         FD  Medium_Perf            14  \n",
       "1         DR  Medium_Perf             4  \n",
       "2         FD  Medium_Perf            14  \n",
       "3         FD     Low_Perf            15  \n",
       "4         NC    High_Perf            26  "
      ]
     },
     "execution_count": 3,
     "metadata": {},
     "output_type": "execute_result"
    }
   ],
   "source": [
    "train.head()"
   ]
  },
  {
   "cell_type": "code",
   "execution_count": 4,
   "id": "933a716d",
   "metadata": {},
   "outputs": [],
   "source": [
    "#encoding in Outlet Size\n",
    "dicti={'Medium':3,'High':2,'Small':1}\n",
    "train['Outlet_Size']=train.Outlet_Size.map(dicti)\n",
    "test['Outlet_Size']=test.Outlet_Size.map(dicti)"
   ]
  },
  {
   "cell_type": "code",
   "execution_count": 5,
   "id": "f1a97ba3",
   "metadata": {},
   "outputs": [],
   "source": [
    "dummytrain=pd.get_dummies(train,drop_first=True)\n",
    "dummytest=pd.get_dummies(test,drop_first=True)"
   ]
  },
  {
   "cell_type": "code",
   "execution_count": 6,
   "id": "3411b061",
   "metadata": {},
   "outputs": [
    {
     "data": {
      "text/html": [
       "<div>\n",
       "<style scoped>\n",
       "    .dataframe tbody tr th:only-of-type {\n",
       "        vertical-align: middle;\n",
       "    }\n",
       "\n",
       "    .dataframe tbody tr th {\n",
       "        vertical-align: top;\n",
       "    }\n",
       "\n",
       "    .dataframe thead th {\n",
       "        text-align: right;\n",
       "    }\n",
       "</style>\n",
       "<table border=\"1\" class=\"dataframe\">\n",
       "  <thead>\n",
       "    <tr style=\"text-align: right;\">\n",
       "      <th></th>\n",
       "      <th>Item_Weight</th>\n",
       "      <th>Item_Visibility</th>\n",
       "      <th>Item_MRP</th>\n",
       "      <th>Outlet_Size</th>\n",
       "      <th>Item_Outlet_Sales</th>\n",
       "      <th>Existence_Yr</th>\n",
       "      <th>Item_Fat_Content_Non Edible</th>\n",
       "      <th>Item_Fat_Content_Regular</th>\n",
       "      <th>Outlet_Location_Type_Tier 2</th>\n",
       "      <th>Outlet_Location_Type_Tier 3</th>\n",
       "      <th>Outlet_Type_Supermarket Type1</th>\n",
       "      <th>Outlet_Type_Supermarket Type2</th>\n",
       "      <th>Outlet_Type_Supermarket Type3</th>\n",
       "      <th>Item_Type_Cat_Perishables</th>\n",
       "      <th>ItemID_Cat_FD</th>\n",
       "      <th>ItemID_Cat_NC</th>\n",
       "      <th>Outlet_Perf_Low_Perf</th>\n",
       "      <th>Outlet_Perf_Medium_Perf</th>\n",
       "    </tr>\n",
       "  </thead>\n",
       "  <tbody>\n",
       "    <tr>\n",
       "      <th>0</th>\n",
       "      <td>9.300</td>\n",
       "      <td>0.016047</td>\n",
       "      <td>249.8092</td>\n",
       "      <td>3</td>\n",
       "      <td>3735.1380</td>\n",
       "      <td>14</td>\n",
       "      <td>0</td>\n",
       "      <td>0</td>\n",
       "      <td>0</td>\n",
       "      <td>0</td>\n",
       "      <td>1</td>\n",
       "      <td>0</td>\n",
       "      <td>0</td>\n",
       "      <td>1</td>\n",
       "      <td>1</td>\n",
       "      <td>0</td>\n",
       "      <td>0</td>\n",
       "      <td>1</td>\n",
       "    </tr>\n",
       "    <tr>\n",
       "      <th>1</th>\n",
       "      <td>5.920</td>\n",
       "      <td>0.019278</td>\n",
       "      <td>48.2692</td>\n",
       "      <td>3</td>\n",
       "      <td>443.4228</td>\n",
       "      <td>4</td>\n",
       "      <td>0</td>\n",
       "      <td>1</td>\n",
       "      <td>0</td>\n",
       "      <td>1</td>\n",
       "      <td>0</td>\n",
       "      <td>1</td>\n",
       "      <td>0</td>\n",
       "      <td>0</td>\n",
       "      <td>0</td>\n",
       "      <td>0</td>\n",
       "      <td>0</td>\n",
       "      <td>1</td>\n",
       "    </tr>\n",
       "    <tr>\n",
       "      <th>2</th>\n",
       "      <td>17.500</td>\n",
       "      <td>0.016760</td>\n",
       "      <td>141.6180</td>\n",
       "      <td>3</td>\n",
       "      <td>2097.2700</td>\n",
       "      <td>14</td>\n",
       "      <td>0</td>\n",
       "      <td>0</td>\n",
       "      <td>0</td>\n",
       "      <td>0</td>\n",
       "      <td>1</td>\n",
       "      <td>0</td>\n",
       "      <td>0</td>\n",
       "      <td>1</td>\n",
       "      <td>1</td>\n",
       "      <td>0</td>\n",
       "      <td>0</td>\n",
       "      <td>1</td>\n",
       "    </tr>\n",
       "    <tr>\n",
       "      <th>3</th>\n",
       "      <td>19.200</td>\n",
       "      <td>0.022914</td>\n",
       "      <td>182.0950</td>\n",
       "      <td>1</td>\n",
       "      <td>732.3800</td>\n",
       "      <td>15</td>\n",
       "      <td>0</td>\n",
       "      <td>1</td>\n",
       "      <td>0</td>\n",
       "      <td>1</td>\n",
       "      <td>0</td>\n",
       "      <td>0</td>\n",
       "      <td>0</td>\n",
       "      <td>1</td>\n",
       "      <td>1</td>\n",
       "      <td>0</td>\n",
       "      <td>1</td>\n",
       "      <td>0</td>\n",
       "    </tr>\n",
       "    <tr>\n",
       "      <th>4</th>\n",
       "      <td>8.930</td>\n",
       "      <td>0.013177</td>\n",
       "      <td>53.8614</td>\n",
       "      <td>2</td>\n",
       "      <td>994.7052</td>\n",
       "      <td>26</td>\n",
       "      <td>1</td>\n",
       "      <td>0</td>\n",
       "      <td>0</td>\n",
       "      <td>1</td>\n",
       "      <td>1</td>\n",
       "      <td>0</td>\n",
       "      <td>0</td>\n",
       "      <td>0</td>\n",
       "      <td>0</td>\n",
       "      <td>1</td>\n",
       "      <td>0</td>\n",
       "      <td>0</td>\n",
       "    </tr>\n",
       "    <tr>\n",
       "      <th>...</th>\n",
       "      <td>...</td>\n",
       "      <td>...</td>\n",
       "      <td>...</td>\n",
       "      <td>...</td>\n",
       "      <td>...</td>\n",
       "      <td>...</td>\n",
       "      <td>...</td>\n",
       "      <td>...</td>\n",
       "      <td>...</td>\n",
       "      <td>...</td>\n",
       "      <td>...</td>\n",
       "      <td>...</td>\n",
       "      <td>...</td>\n",
       "      <td>...</td>\n",
       "      <td>...</td>\n",
       "      <td>...</td>\n",
       "      <td>...</td>\n",
       "      <td>...</td>\n",
       "    </tr>\n",
       "    <tr>\n",
       "      <th>8518</th>\n",
       "      <td>6.865</td>\n",
       "      <td>0.056783</td>\n",
       "      <td>214.5218</td>\n",
       "      <td>2</td>\n",
       "      <td>2778.3834</td>\n",
       "      <td>26</td>\n",
       "      <td>0</td>\n",
       "      <td>0</td>\n",
       "      <td>0</td>\n",
       "      <td>1</td>\n",
       "      <td>1</td>\n",
       "      <td>0</td>\n",
       "      <td>0</td>\n",
       "      <td>0</td>\n",
       "      <td>1</td>\n",
       "      <td>0</td>\n",
       "      <td>0</td>\n",
       "      <td>0</td>\n",
       "    </tr>\n",
       "    <tr>\n",
       "      <th>8519</th>\n",
       "      <td>8.380</td>\n",
       "      <td>0.046982</td>\n",
       "      <td>108.1570</td>\n",
       "      <td>3</td>\n",
       "      <td>549.2850</td>\n",
       "      <td>11</td>\n",
       "      <td>0</td>\n",
       "      <td>1</td>\n",
       "      <td>1</td>\n",
       "      <td>0</td>\n",
       "      <td>1</td>\n",
       "      <td>0</td>\n",
       "      <td>0</td>\n",
       "      <td>0</td>\n",
       "      <td>1</td>\n",
       "      <td>0</td>\n",
       "      <td>0</td>\n",
       "      <td>1</td>\n",
       "    </tr>\n",
       "    <tr>\n",
       "      <th>8520</th>\n",
       "      <td>10.600</td>\n",
       "      <td>0.035186</td>\n",
       "      <td>85.1224</td>\n",
       "      <td>1</td>\n",
       "      <td>1193.1136</td>\n",
       "      <td>9</td>\n",
       "      <td>1</td>\n",
       "      <td>0</td>\n",
       "      <td>1</td>\n",
       "      <td>0</td>\n",
       "      <td>1</td>\n",
       "      <td>0</td>\n",
       "      <td>0</td>\n",
       "      <td>0</td>\n",
       "      <td>0</td>\n",
       "      <td>1</td>\n",
       "      <td>0</td>\n",
       "      <td>1</td>\n",
       "    </tr>\n",
       "    <tr>\n",
       "      <th>8521</th>\n",
       "      <td>7.210</td>\n",
       "      <td>0.145221</td>\n",
       "      <td>103.1332</td>\n",
       "      <td>3</td>\n",
       "      <td>1845.5976</td>\n",
       "      <td>4</td>\n",
       "      <td>0</td>\n",
       "      <td>1</td>\n",
       "      <td>0</td>\n",
       "      <td>1</td>\n",
       "      <td>0</td>\n",
       "      <td>1</td>\n",
       "      <td>0</td>\n",
       "      <td>0</td>\n",
       "      <td>1</td>\n",
       "      <td>0</td>\n",
       "      <td>0</td>\n",
       "      <td>1</td>\n",
       "    </tr>\n",
       "    <tr>\n",
       "      <th>8522</th>\n",
       "      <td>14.800</td>\n",
       "      <td>0.044878</td>\n",
       "      <td>75.4670</td>\n",
       "      <td>1</td>\n",
       "      <td>765.6700</td>\n",
       "      <td>16</td>\n",
       "      <td>0</td>\n",
       "      <td>0</td>\n",
       "      <td>0</td>\n",
       "      <td>0</td>\n",
       "      <td>1</td>\n",
       "      <td>0</td>\n",
       "      <td>0</td>\n",
       "      <td>0</td>\n",
       "      <td>0</td>\n",
       "      <td>0</td>\n",
       "      <td>0</td>\n",
       "      <td>1</td>\n",
       "    </tr>\n",
       "  </tbody>\n",
       "</table>\n",
       "<p>8523 rows × 18 columns</p>\n",
       "</div>"
      ],
      "text/plain": [
       "      Item_Weight  Item_Visibility  Item_MRP  Outlet_Size  Item_Outlet_Sales  \\\n",
       "0           9.300         0.016047  249.8092            3          3735.1380   \n",
       "1           5.920         0.019278   48.2692            3           443.4228   \n",
       "2          17.500         0.016760  141.6180            3          2097.2700   \n",
       "3          19.200         0.022914  182.0950            1           732.3800   \n",
       "4           8.930         0.013177   53.8614            2           994.7052   \n",
       "...           ...              ...       ...          ...                ...   \n",
       "8518        6.865         0.056783  214.5218            2          2778.3834   \n",
       "8519        8.380         0.046982  108.1570            3           549.2850   \n",
       "8520       10.600         0.035186   85.1224            1          1193.1136   \n",
       "8521        7.210         0.145221  103.1332            3          1845.5976   \n",
       "8522       14.800         0.044878   75.4670            1           765.6700   \n",
       "\n",
       "      Existence_Yr  Item_Fat_Content_Non Edible  Item_Fat_Content_Regular  \\\n",
       "0               14                            0                         0   \n",
       "1                4                            0                         1   \n",
       "2               14                            0                         0   \n",
       "3               15                            0                         1   \n",
       "4               26                            1                         0   \n",
       "...            ...                          ...                       ...   \n",
       "8518            26                            0                         0   \n",
       "8519            11                            0                         1   \n",
       "8520             9                            1                         0   \n",
       "8521             4                            0                         1   \n",
       "8522            16                            0                         0   \n",
       "\n",
       "      Outlet_Location_Type_Tier 2  Outlet_Location_Type_Tier 3  \\\n",
       "0                               0                            0   \n",
       "1                               0                            1   \n",
       "2                               0                            0   \n",
       "3                               0                            1   \n",
       "4                               0                            1   \n",
       "...                           ...                          ...   \n",
       "8518                            0                            1   \n",
       "8519                            1                            0   \n",
       "8520                            1                            0   \n",
       "8521                            0                            1   \n",
       "8522                            0                            0   \n",
       "\n",
       "      Outlet_Type_Supermarket Type1  Outlet_Type_Supermarket Type2  \\\n",
       "0                                 1                              0   \n",
       "1                                 0                              1   \n",
       "2                                 1                              0   \n",
       "3                                 0                              0   \n",
       "4                                 1                              0   \n",
       "...                             ...                            ...   \n",
       "8518                              1                              0   \n",
       "8519                              1                              0   \n",
       "8520                              1                              0   \n",
       "8521                              0                              1   \n",
       "8522                              1                              0   \n",
       "\n",
       "      Outlet_Type_Supermarket Type3  Item_Type_Cat_Perishables  ItemID_Cat_FD  \\\n",
       "0                                 0                          1              1   \n",
       "1                                 0                          0              0   \n",
       "2                                 0                          1              1   \n",
       "3                                 0                          1              1   \n",
       "4                                 0                          0              0   \n",
       "...                             ...                        ...            ...   \n",
       "8518                              0                          0              1   \n",
       "8519                              0                          0              1   \n",
       "8520                              0                          0              0   \n",
       "8521                              0                          0              1   \n",
       "8522                              0                          0              0   \n",
       "\n",
       "      ItemID_Cat_NC  Outlet_Perf_Low_Perf  Outlet_Perf_Medium_Perf  \n",
       "0                 0                     0                        1  \n",
       "1                 0                     0                        1  \n",
       "2                 0                     0                        1  \n",
       "3                 0                     1                        0  \n",
       "4                 1                     0                        0  \n",
       "...             ...                   ...                      ...  \n",
       "8518              0                     0                        0  \n",
       "8519              0                     0                        1  \n",
       "8520              1                     0                        1  \n",
       "8521              0                     0                        1  \n",
       "8522              0                     0                        1  \n",
       "\n",
       "[8523 rows x 18 columns]"
      ]
     },
     "execution_count": 6,
     "metadata": {},
     "output_type": "execute_result"
    }
   ],
   "source": [
    "dummytrain"
   ]
  },
  {
   "cell_type": "code",
   "execution_count": 7,
   "id": "45f405bb",
   "metadata": {},
   "outputs": [
    {
     "data": {
      "text/plain": [
       "array([1805.78428   , 1624.0027766 , 1875.05188385, ..., 1844.65708823,\n",
       "       3582.00283103, 1296.69165283])"
      ]
     },
     "execution_count": 7,
     "metadata": {},
     "output_type": "execute_result"
    }
   ],
   "source": [
    "#Full model ~Linear Regression\n",
    "\n",
    "X=dummytrain.drop('Item_Outlet_Sales',axis=1)\n",
    "y=dummytrain.Item_Outlet_Sales\n",
    "\n",
    "#Import the linear model\n",
    "\n",
    "from sklearn.linear_model import LinearRegression\n",
    "lr=LinearRegression()\n",
    "\n",
    "#fit and predict\n",
    "\n",
    "pred=lr.fit(X,y).predict(dummytest)\n",
    "pred"
   ]
  },
  {
   "cell_type": "code",
   "execution_count": 8,
   "id": "04891347",
   "metadata": {},
   "outputs": [],
   "source": [
    "#cross validation for submission\n",
    "from sklearn.model_selection import KFold\n",
    "kfold=KFold(n_splits=5,random_state=42,shuffle=True)\n",
    "lr=LinearRegression()\n",
    "\n",
    "mylist=[]\n",
    "\n",
    "for train_index,test_index in kfold.split(X,y):\n",
    "    xtrain=X.loc[train_index]\n",
    "    ytrain=y.loc[train_index]\n",
    "    mylist.append(lr.fit(xtrain,ytrain).predict(dummytest))"
   ]
  },
  {
   "cell_type": "markdown",
   "id": "a706121a",
   "metadata": {},
   "source": [
    "### About Cross Validation\n",
    "\n",
    "* It is a kind of a model which uses multiple samples to learn the pattern from the data and then predicts on the test set.\n",
    "\n",
    "* Here, the samples drawn are divided in n folds. The data is then bifurcated basis the folds and the learning happens on each and every fold followed by the prediction.\n",
    "\n",
    "* Cross Validation models are more reliable than a general train test split because it helps cut down the Variance in the Prediction\n",
    "\n",
    "#### About LOOCV\n",
    "* Leave One Out Cross Validation is an approach where the model is learning on each row and  predicting on each row. \n",
    "\n",
    "* Thus, it is very different from the Cross Validation approach where the KFolds represent K Samples of Data taken to build the Same Model.\n",
    "\n",
    "* LOOCV can work well with smaller datasets where as It would become Computationally very expensive as each row is used for fitting and predicting.\n",
    "\n",
    "**Note: As the number of folds increase, overfitting begins. The popular split value is 5, 10, 20, 25, 50...50 is used in the extreme scenarios.**"
   ]
  },
  {
   "cell_type": "code",
   "execution_count": 9,
   "id": "3a9cbf43",
   "metadata": {},
   "outputs": [],
   "source": [
    "finalpred=np.abs(pd.DataFrame(mylist).T.mean(axis=1))"
   ]
  },
  {
   "cell_type": "code",
   "execution_count": 10,
   "id": "abe63848",
   "metadata": {},
   "outputs": [],
   "source": [
    "#import submission file\n",
    "\n",
    "submission=pd.read_csv(r\"C:\\Users\\KRITGYA KASHYAP\\Downloads\\sample_submission_8RXa3c6.csv\")"
   ]
  },
  {
   "cell_type": "code",
   "execution_count": 11,
   "id": "9b90b6e3",
   "metadata": {},
   "outputs": [],
   "source": [
    "submission['Item_Outlet_Sales']=np.abs(pred)"
   ]
  },
  {
   "cell_type": "code",
   "execution_count": 12,
   "id": "cf8d09ea",
   "metadata": {},
   "outputs": [],
   "source": [
    "#Export the submission file\n",
    "submission.to_csv('LRMODEL_BM.csv',index=False)"
   ]
  },
  {
   "cell_type": "code",
   "execution_count": 13,
   "id": "c7bfb5f1",
   "metadata": {},
   "outputs": [
    {
     "name": "stdout",
     "output_type": "stream",
     "text": [
      "C:\\Users\\KRITGYA KASHYAP\n"
     ]
    }
   ],
   "source": [
    "cd"
   ]
  },
  {
   "cell_type": "markdown",
   "id": "02005938",
   "metadata": {},
   "source": [
    "### Cross Validation \n",
    "\n",
    "* able to reduce the variance ..."
   ]
  },
  {
   "cell_type": "code",
   "execution_count": 14,
   "id": "3d1cc69e",
   "metadata": {},
   "outputs": [],
   "source": [
    "from sklearn.model_selection import KFold\n",
    "X=dummytrain.drop('Item_Outlet_Sales',axis=1)\n",
    "y=dummytrain.Item_Outlet_Sales\n"
   ]
  },
  {
   "cell_type": "markdown",
   "id": "023457a2",
   "metadata": {},
   "source": [
    "###### build the model using K Fold Cross Validation"
   ]
  },
  {
   "cell_type": "code",
   "execution_count": 15,
   "id": "6be5f105",
   "metadata": {},
   "outputs": [],
   "source": [
    "#machine creation (KFold)\n",
    "meri_x=KFold(n_splits=5,shuffle=True)\n",
    "\n",
    "#MOdel\n",
    "from sklearn.linear_model import LinearRegression,SGDRegressor\n",
    "lr=LinearRegression()\n",
    "sgd=SGDRegressor()\n",
    "\n",
    "mylist=[]\n",
    "\n",
    "for train_index,test_index in meri_x.split(X,y):\n",
    "    xtrain=X.loc[train_index]\n",
    "    ytrain=y.loc[train_index]\n",
    "    \n",
    "    xtest=X.loc[test_index]\n",
    "    ytest=y.loc[test_index]\n",
    "    \n",
    "    mylist.append(lr.fit(xtrain,ytrain).predict(xtest))  "
   ]
  },
  {
   "cell_type": "code",
   "execution_count": 16,
   "id": "79abb59e",
   "metadata": {},
   "outputs": [],
   "source": [
    "finalpred=pd.DataFrame(mylist).T.mean(axis=1)"
   ]
  },
  {
   "cell_type": "code",
   "execution_count": 17,
   "id": "76032ccd",
   "metadata": {},
   "outputs": [
    {
     "name": "stdout",
     "output_type": "stream",
     "text": [
      "R2 Score : -0.1234906257377899\n",
      "RMSE : 1802.9848265643116\n"
     ]
    }
   ],
   "source": [
    "#checking the meterics\n",
    "\n",
    "from sklearn.metrics import r2_score,mean_squared_error\n",
    "print('R2 Score :',r2_score(ytest,finalpred[1:]))\n",
    "print('RMSE :',np.sqrt(mean_squared_error(ytest,finalpred[1:])))"
   ]
  },
  {
   "cell_type": "markdown",
   "id": "c6019a9f",
   "metadata": {},
   "source": [
    "### Regularization"
   ]
  },
  {
   "cell_type": "code",
   "execution_count": 18,
   "id": "0559e650",
   "metadata": {},
   "outputs": [],
   "source": [
    "lr=LinearRegression()"
   ]
  },
  {
   "cell_type": "code",
   "execution_count": 19,
   "id": "39e60193",
   "metadata": {},
   "outputs": [
    {
     "data": {
      "text/plain": [
       "LinearRegression()"
      ]
     },
     "execution_count": 19,
     "metadata": {},
     "output_type": "execute_result"
    }
   ],
   "source": [
    "lr.fit(X,y)"
   ]
  },
  {
   "cell_type": "code",
   "execution_count": 20,
   "id": "adc50d49",
   "metadata": {},
   "outputs": [
    {
     "data": {
      "image/png": "[encoded data removed]",
      "text/plain": [
       "<Figure size 640x480 with 1 Axes>"
      ]
     },
     "metadata": {},
     "output_type": "display_data"
    }
   ],
   "source": [
    "pd.Series(lr.coef_,index=X.columns).sort_values(ascending=False).plot(kind='bar')\n",
    "plt.title('Coefficient(s) plot')\n",
    "plt.show()\n",
    "\n",
    "#machine gives weightage to categorical columns,this leads to over fitting ... because machine did not give\n",
    "#weightage to correct set of features.  "
   ]
  },
  {
   "cell_type": "code",
   "execution_count": 21,
   "id": "a81fdbe8",
   "metadata": {},
   "outputs": [
    {
     "data": {
      "text/plain": [
       "RandomForestRegressor()"
      ]
     },
     "execution_count": 21,
     "metadata": {},
     "output_type": "execute_result"
    }
   ],
   "source": [
    "from sklearn.ensemble import RandomForestRegressor\n",
    "rf=RandomForestRegressor()\n",
    "\n",
    "rf.fit(X,y)"
   ]
  },
  {
   "cell_type": "code",
   "execution_count": 22,
   "id": "b239971a",
   "metadata": {},
   "outputs": [
    {
     "data": {
      "text/plain": [
       "<AxesSubplot:>"
      ]
     },
     "execution_count": 22,
     "metadata": {},
     "output_type": "execute_result"
    },
    {
     "data": {
      "image/png": "[encoded data removed]",
      "text/plain": [
       "<Figure size 640x480 with 1 Axes>"
      ]
     },
     "metadata": {},
     "output_type": "display_data"
    }
   ],
   "source": [
    "pd.Series(rf.feature_importances_,index=X.columns).sort_values(ascending=False).plot(kind='bar',color='red')"
   ]
  },
  {
   "cell_type": "code",
   "execution_count": 23,
   "id": "2768ee54",
   "metadata": {},
   "outputs": [],
   "source": [
    "kfold=KFold(n_splits=5,random_state=42,shuffle=True)\n",
    "pred=[]\n",
    "for train_index,test_index in kfold.split(X,y):\n",
    "    xtrain=X.loc[train_index]\n",
    "    ytrain=y.loc[train_index]\n",
    "    pred.append(rf.fit(xtrain,ytrain).predict(dummytest))"
   ]
  },
  {
   "cell_type": "code",
   "execution_count": 24,
   "id": "00f96805",
   "metadata": {},
   "outputs": [],
   "source": [
    "vals=pd.DataFrame(pred).T.mean(axis=1)\n",
    "submission['Item_Outlet_Sales']=np.abs(vals)"
   ]
  },
  {
   "cell_type": "code",
   "execution_count": 25,
   "id": "82603bd4",
   "metadata": {},
   "outputs": [],
   "source": [
    "submission.to_csv('RandomForest_BM.csv',index=False)"
   ]
  },
  {
   "cell_type": "code",
   "execution_count": 26,
   "id": "c9b75a54",
   "metadata": {},
   "outputs": [
    {
     "name": "stdout",
     "output_type": "stream",
     "text": [
      "C:\\Users\\KRITGYA KASHYAP\n"
     ]
    }
   ],
   "source": [
    "cd"
   ]
  },
  {
   "cell_type": "code",
   "execution_count": null,
   "id": "49274251",
   "metadata": {},
   "outputs": [],
   "source": []
  }
 ],
 "metadata": {
  "kernelspec": {
   "display_name": "Python 3 (ipykernel)",
   "language": "python",
   "name": "python3"
  },
  "language_info": {
   "codemirror_mode": {
    "name": "ipython",
    "version": 3
   },
   "file_extension": ".py",
   "mimetype": "text/x-python",
   "name": "python",
   "nbconvert_exporter": "python",
   "pygments_lexer": "ipython3",
   "version": "3.9.13"
  }
 },
 "nbformat": 4,
 "nbformat_minor": 5
}
